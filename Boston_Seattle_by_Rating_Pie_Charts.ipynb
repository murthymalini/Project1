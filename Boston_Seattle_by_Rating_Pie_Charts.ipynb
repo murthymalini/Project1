{
 "cells": [
  {
   "cell_type": "code",
   "execution_count": 2,
   "metadata": {},
   "outputs": [],
   "source": [
    "import pandas as pd\n",
    "import matplotlib.pyplot as plt\n",
    "import numpy as np"
   ]
  },
  {
   "cell_type": "code",
   "execution_count": 3,
   "metadata": {},
   "outputs": [],
   "source": [
    "Boston_Listings_Reviews=pd.read_csv(\"Output/Boston_Listings_Reviews_df.csv\")"
   ]
  },
  {
   "cell_type": "code",
   "execution_count": 4,
   "metadata": {},
   "outputs": [
    {
     "data": {
      "text/html": [
       "<div>\n",
       "<style scoped>\n",
       "    .dataframe tbody tr th:only-of-type {\n",
       "        vertical-align: middle;\n",
       "    }\n",
       "\n",
       "    .dataframe tbody tr th {\n",
       "        vertical-align: top;\n",
       "    }\n",
       "\n",
       "    .dataframe thead th {\n",
       "        text-align: right;\n",
       "    }\n",
       "</style>\n",
       "<table border=\"1\" class=\"dataframe\">\n",
       "  <thead>\n",
       "    <tr style=\"text-align: right;\">\n",
       "      <th></th>\n",
       "      <th>Unnamed: 0</th>\n",
       "      <th>listing_id</th>\n",
       "      <th>name</th>\n",
       "      <th>latitude</th>\n",
       "      <th>longitude</th>\n",
       "      <th>property_type</th>\n",
       "      <th>accommodates</th>\n",
       "      <th>bathrooms</th>\n",
       "      <th>bedrooms</th>\n",
       "      <th>beds</th>\n",
       "      <th>review_scores_rating</th>\n",
       "      <th>City</th>\n",
       "    </tr>\n",
       "  </thead>\n",
       "  <tbody>\n",
       "    <tr>\n",
       "      <th>0</th>\n",
       "      <td>1</td>\n",
       "      <td>3075044</td>\n",
       "      <td>Charming room in pet friendly apt</td>\n",
       "      <td>42.286241</td>\n",
       "      <td>-71.134374</td>\n",
       "      <td>Apartment</td>\n",
       "      <td>2</td>\n",
       "      <td>1.0</td>\n",
       "      <td>1.0</td>\n",
       "      <td>1.0</td>\n",
       "      <td>94.0</td>\n",
       "      <td>Boston</td>\n",
       "    </tr>\n",
       "    <tr>\n",
       "      <th>1</th>\n",
       "      <td>2</td>\n",
       "      <td>6976</td>\n",
       "      <td>Mexican Folk Art Haven in Boston</td>\n",
       "      <td>42.292438</td>\n",
       "      <td>-71.135765</td>\n",
       "      <td>Apartment</td>\n",
       "      <td>2</td>\n",
       "      <td>1.0</td>\n",
       "      <td>1.0</td>\n",
       "      <td>1.0</td>\n",
       "      <td>98.0</td>\n",
       "      <td>Boston</td>\n",
       "    </tr>\n",
       "    <tr>\n",
       "      <th>2</th>\n",
       "      <td>3</td>\n",
       "      <td>1436513</td>\n",
       "      <td>Spacious Sunny Bedroom Suite in Historic Home</td>\n",
       "      <td>42.281106</td>\n",
       "      <td>-71.121021</td>\n",
       "      <td>House</td>\n",
       "      <td>4</td>\n",
       "      <td>1.0</td>\n",
       "      <td>1.0</td>\n",
       "      <td>2.0</td>\n",
       "      <td>100.0</td>\n",
       "      <td>Boston</td>\n",
       "    </tr>\n",
       "    <tr>\n",
       "      <th>3</th>\n",
       "      <td>4</td>\n",
       "      <td>7651065</td>\n",
       "      <td>Come Home to Boston</td>\n",
       "      <td>42.284512</td>\n",
       "      <td>-71.136258</td>\n",
       "      <td>House</td>\n",
       "      <td>2</td>\n",
       "      <td>1.5</td>\n",
       "      <td>1.0</td>\n",
       "      <td>2.0</td>\n",
       "      <td>99.0</td>\n",
       "      <td>Boston</td>\n",
       "    </tr>\n",
       "    <tr>\n",
       "      <th>4</th>\n",
       "      <td>5</td>\n",
       "      <td>12386020</td>\n",
       "      <td>Private Bedroom + Great Coffee</td>\n",
       "      <td>42.291690</td>\n",
       "      <td>-71.131893</td>\n",
       "      <td>Condominium</td>\n",
       "      <td>2</td>\n",
       "      <td>1.0</td>\n",
       "      <td>1.0</td>\n",
       "      <td>1.0</td>\n",
       "      <td>100.0</td>\n",
       "      <td>Boston</td>\n",
       "    </tr>\n",
       "  </tbody>\n",
       "</table>\n",
       "</div>"
      ],
      "text/plain": [
       "   Unnamed: 0  listing_id                                           name  \\\n",
       "0           1     3075044              Charming room in pet friendly apt   \n",
       "1           2        6976               Mexican Folk Art Haven in Boston   \n",
       "2           3     1436513  Spacious Sunny Bedroom Suite in Historic Home   \n",
       "3           4     7651065                            Come Home to Boston   \n",
       "4           5    12386020                 Private Bedroom + Great Coffee   \n",
       "\n",
       "    latitude  longitude property_type  accommodates  bathrooms  bedrooms  \\\n",
       "0  42.286241 -71.134374     Apartment             2        1.0       1.0   \n",
       "1  42.292438 -71.135765     Apartment             2        1.0       1.0   \n",
       "2  42.281106 -71.121021         House             4        1.0       1.0   \n",
       "3  42.284512 -71.136258         House             2        1.5       1.0   \n",
       "4  42.291690 -71.131893   Condominium             2        1.0       1.0   \n",
       "\n",
       "   beds  review_scores_rating    City  \n",
       "0   1.0                  94.0  Boston  \n",
       "1   1.0                  98.0  Boston  \n",
       "2   2.0                 100.0  Boston  \n",
       "3   2.0                  99.0  Boston  \n",
       "4   1.0                 100.0  Boston  "
      ]
     },
     "execution_count": 4,
     "metadata": {},
     "output_type": "execute_result"
    }
   ],
   "source": [
    "Seattle_Listings_Reviews=pd.read_csv(\"Output/Seattle_Listings_Reviews_df.csv\")\n",
    "Boston_Listings_Reviews.head()"
   ]
  },
  {
   "cell_type": "code",
   "execution_count": 5,
   "metadata": {},
   "outputs": [],
   "source": [
    "bins=np.arange(0,101,5)\n",
    "Boston_Listings_Reviews['Rating_Range']=pd.cut(Boston_Listings_Reviews.review_scores_rating,bins)\n",
    "Seattle_Listings_Reviews['Rating_Range']=pd.cut(Seattle_Listings_Reviews.review_scores_rating,bins)"
   ]
  },
  {
   "cell_type": "code",
   "execution_count": 89,
   "metadata": {},
   "outputs": [
    {
     "data": {
      "text/html": [
       "<div>\n",
       "<style scoped>\n",
       "    .dataframe tbody tr th:only-of-type {\n",
       "        vertical-align: middle;\n",
       "    }\n",
       "\n",
       "    .dataframe tbody tr th {\n",
       "        vertical-align: top;\n",
       "    }\n",
       "\n",
       "    .dataframe thead th {\n",
       "        text-align: right;\n",
       "    }\n",
       "</style>\n",
       "<table border=\"1\" class=\"dataframe\">\n",
       "  <thead>\n",
       "    <tr style=\"text-align: right;\">\n",
       "      <th></th>\n",
       "      <th>Rating_Range</th>\n",
       "      <th>Boston_rating_percentage</th>\n",
       "      <th>Seattle_rating_percentage</th>\n",
       "    </tr>\n",
       "  </thead>\n",
       "  <tbody>\n",
       "    <tr>\n",
       "      <th>16</th>\n",
       "      <td>(80, 85]</td>\n",
       "      <td>5.0</td>\n",
       "      <td>2.0</td>\n",
       "    </tr>\n",
       "    <tr>\n",
       "      <th>17</th>\n",
       "      <td>(85, 90]</td>\n",
       "      <td>15.0</td>\n",
       "      <td>10.0</td>\n",
       "    </tr>\n",
       "    <tr>\n",
       "      <th>18</th>\n",
       "      <td>(90, 95]</td>\n",
       "      <td>25.0</td>\n",
       "      <td>27.0</td>\n",
       "    </tr>\n",
       "    <tr>\n",
       "      <th>19</th>\n",
       "      <td>(95, 100]</td>\n",
       "      <td>44.0</td>\n",
       "      <td>56.0</td>\n",
       "    </tr>\n",
       "    <tr>\n",
       "      <th>0</th>\n",
       "      <td>Other</td>\n",
       "      <td>3.0</td>\n",
       "      <td>3.0</td>\n",
       "    </tr>\n",
       "  </tbody>\n",
       "</table>\n",
       "</div>"
      ],
      "text/plain": [
       "   Rating_Range  Boston_rating_percentage  Seattle_rating_percentage\n",
       "16     (80, 85]                       5.0                        2.0\n",
       "17     (85, 90]                      15.0                       10.0\n",
       "18     (90, 95]                      25.0                       27.0\n",
       "19    (95, 100]                      44.0                       56.0\n",
       "0         Other                       3.0                        3.0"
      ]
     },
     "execution_count": 89,
     "metadata": {},
     "output_type": "execute_result"
    }
   ],
   "source": [
    "Boston_groupby_property_type=Boston_Listings_Reviews.groupby('Rating_Range')\n",
    "df1=Boston_groupby_property_type[\"listing_id\"].count()\n",
    "\n",
    "Seattle_groupby_property_type=Seattle_Listings_Reviews.groupby('Rating_Range')\n",
    "df2=Seattle_groupby_property_type[\"listing_id\"].count()\n",
    "\n",
    "df1=df1.reset_index()\n",
    "df1.columns=['Rating_Range','Boston_Rating_Count']\n",
    "\n",
    "df2=df2.reset_index()\n",
    "df2.columns=['Rating_Range','Seattle_Rating_Count']\n",
    "\n",
    "Rating_count=df1.merge(df2, on ='Rating_Range', how='inner')[10:20]\n",
    "total_Boston_rating_count=sum(Rating_count[\"Boston_Rating_Count\"])\n",
    "total_Seattle_rating_count=sum(Rating_count[\"Seattle_Rating_Count\"])\n",
    "\n",
    "Rating_count[\"Boston_rating_percentage\"]=[round(i/total_Boston_rating_count*100,0) for i in Rating_count[\"Boston_Rating_Count\"]]\n",
    "Rating_count[\"Seattle_rating_percentage\"]=[round(i/total_Seattle_rating_count*100,0) for i in Rating_count[\"Seattle_Rating_Count\"]]\n",
    "\n",
    "new_df1=Rating_count[6:10][[\"Rating_Range\",\"Boston_rating_percentage\",\"Seattle_rating_percentage\"]]\n",
    "new_df2=pd.DataFrame([[\"Other\",Rating_count[0:5][\"Boston_rating_percentage\"].sum(),Rating_count[0:5][\"Boston_rating_percentage\"].sum()]], columns=new_df1.columns)\n",
    "new_df=new_df1.append(new_df2)\n",
    "new_df"
   ]
  },
  {
   "cell_type": "code",
   "execution_count": 121,
   "metadata": {},
   "outputs": [
    {
     "data": {
      "image/png": "[encoded data removed]",
      "text/plain": [
       "<Figure size 1080x1080 with 1 Axes>"
      ]
     },
     "metadata": {},
     "output_type": "display_data"
    }
   ],
   "source": [
    "ax1 = plt.subplot(121, aspect='equal')\n",
    "new_df.plot(kind='pie', y = 'Boston_rating_percentage', ax=ax1,autopct='%1.1f%%', shadow=False, labels=new_df[\"Rating_Range\"], legend = False, fontsize=10, figsize=(15,15))\n",
    "ax1.figure.savefig(\"Output/Boston_by_Rating_Pie.png\")\n",
    "plt.show()"
   ]
  },
  {
   "cell_type": "code",
   "execution_count": 120,
   "metadata": {},
   "outputs": [
    {
     "data": {
      "image/png": "[encoded data removed]",
      "text/plain": [
       "<Figure size 1080x1080 with 1 Axes>"
      ]
     },
     "metadata": {},
     "output_type": "display_data"
    }
   ],
   "source": [
    "ax2 = plt.subplot(121, aspect='equal')\n",
    "new_df.plot(kind='pie', y = 'Seattle_rating_percentage', ax=ax2,autopct='%1.1f%%', shadow=False, labels=new_df[\"Rating_Range\"], legend = False, fontsize=10, figsize=(15,15))\n",
    "ax2.figure.savefig(\"Output/Seattle_by_Rating_Pie.png\")\n",
    "plt.show()"
   ]
  },
  {
   "cell_type": "code",
   "execution_count": null,
   "metadata": {},
   "outputs": [],
   "source": []
  },
  {
   "cell_type": "code",
   "execution_count": 8,
   "metadata": {},
   "outputs": [],
   "source": []
  },
  {
   "cell_type": "code",
   "execution_count": null,
   "metadata": {
    "scrolled": true
   },
   "outputs": [],
   "source": []
  },
  {
   "cell_type": "code",
   "execution_count": null,
   "metadata": {},
   "outputs": [],
   "source": []
  }
 ],
 "metadata": {
  "kernelspec": {
   "display_name": "Python 3",
   "language": "python",
   "name": "python3"
  },
  "language_info": {
   "codemirror_mode": {
    "name": "ipython",
    "version": 3
   },
   "file_extension": ".py",
   "mimetype": "text/x-python",
   "name": "python",
   "nbconvert_exporter": "python",
   "pygments_lexer": "ipython3",
   "version": "3.7.3"
  }
 },
 "nbformat": 4,
 "nbformat_minor": 2
}
