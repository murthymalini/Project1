{
 "cells": [
  {
   "cell_type": "code",
   "execution_count": 2,
   "metadata": {},
   "outputs": [],
   "source": [
    "import gmaps\n",
    "import pandas as pd\n",
    "from api_keys import gkey\n",
    "from datetime import date\n",
    "import calendar\n",
    "import scipy.stats as stats\n",
    "from matplotlib import pyplot as plt\n",
    "import statistics"
   ]
  },
  {
   "cell_type": "markdown",
   "metadata": {},
   "source": [
    "# Seattle "
   ]
  },
  {
   "cell_type": "code",
   "execution_count": 38,
   "metadata": {},
   "outputs": [
    {
     "data": {
      "text/plain": [
       "Text(0.5, 0, 'Day')"
      ]
     },
     "execution_count": 38,
     "metadata": {},
     "output_type": "execute_result"
    },
    {
     "data": {
      "image/png": "[encoded data removed]",
      "text/plain": [
       "<Figure size 432x288 with 1 Axes>"
      ]
     },
     "metadata": {
      "needs_background": "light"
     },
     "output_type": "display_data"
    }
   ],
   "source": [
    "#Import Seattle file\n",
    "file = 'Seattle_Master_Df.csv'\n",
    "\n",
    "seattle = pd.read_csv(file)\n",
    "del seattle['Unnamed: 0']\n",
    "\n",
    "#Create column for day of week\n",
    "seattle['date'] =  pd.to_datetime(seattle['date'], format='%Y-%m')\n",
    "seattle['day'] = seattle['date'].dt.day_name()\n",
    "seattle = seattle[['listing_id', 'date', 'price', 'year','City','latitude', 'longitude', 'property_type', 'review_scores_rating', 'day']]\n",
    "\n",
    "\n",
    "#Evaluate price by day of week\n",
    "Seattle_day_df = seattle.groupby(['City','day'])['price'].mean().round()\n",
    "Seattle_day_df = pd.DataFrame(Seattle_day_df).reset_index()\n",
    "dict = {'Monday':0,'Tuesday':1,'Wednesday':2,'Thursday':3,'Friday':4,'Saturday':5,'Sunday':6}\n",
    "Seattle_day_df['order'] = Seattle_day_df['day'].map(dict)\n",
    "Seattle_day_df = Seattle_day_df.sort_values('order')\n",
    "del Seattle_day_df['order']\n",
    "fig = Seattle_day_df.set_index('day').plot(kind='line',title = 'Average Price by Day in Seattle')\n",
    "fig.set_ylabel('Price ($)')\n",
    "fig.set_xlabel('Day')"
   ]
  },
  {
   "cell_type": "code",
   "execution_count": 14,
   "metadata": {},
   "outputs": [
    {
     "data": {
      "text/html": [
       "<div>\n",
       "<style scoped>\n",
       "    .dataframe tbody tr th:only-of-type {\n",
       "        vertical-align: middle;\n",
       "    }\n",
       "\n",
       "    .dataframe tbody tr th {\n",
       "        vertical-align: top;\n",
       "    }\n",
       "\n",
       "    .dataframe thead th {\n",
       "        text-align: right;\n",
       "    }\n",
       "</style>\n",
       "<table border=\"1\" class=\"dataframe\">\n",
       "  <thead>\n",
       "    <tr style=\"text-align: right;\">\n",
       "      <th></th>\n",
       "      <th>listing_id</th>\n",
       "      <th>date</th>\n",
       "      <th>price</th>\n",
       "      <th>year</th>\n",
       "      <th>City</th>\n",
       "      <th>latitude</th>\n",
       "      <th>longitude</th>\n",
       "      <th>property_type</th>\n",
       "      <th>review_scores_rating</th>\n",
       "      <th>day</th>\n",
       "      <th>month</th>\n",
       "    </tr>\n",
       "  </thead>\n",
       "  <tbody>\n",
       "    <tr>\n",
       "      <th>0</th>\n",
       "      <td>5682</td>\n",
       "      <td>2016-01-11</td>\n",
       "      <td>50.0</td>\n",
       "      <td>2016</td>\n",
       "      <td>Seattle</td>\n",
       "      <td>47.52398</td>\n",
       "      <td>-122.359891</td>\n",
       "      <td>Apartment</td>\n",
       "      <td>96.0</td>\n",
       "      <td>Monday</td>\n",
       "      <td>1</td>\n",
       "    </tr>\n",
       "    <tr>\n",
       "      <th>1</th>\n",
       "      <td>5682</td>\n",
       "      <td>2016-01-12</td>\n",
       "      <td>50.0</td>\n",
       "      <td>2016</td>\n",
       "      <td>Seattle</td>\n",
       "      <td>47.52398</td>\n",
       "      <td>-122.359891</td>\n",
       "      <td>Apartment</td>\n",
       "      <td>96.0</td>\n",
       "      <td>Tuesday</td>\n",
       "      <td>1</td>\n",
       "    </tr>\n",
       "    <tr>\n",
       "      <th>2</th>\n",
       "      <td>5682</td>\n",
       "      <td>2016-01-13</td>\n",
       "      <td>50.0</td>\n",
       "      <td>2016</td>\n",
       "      <td>Seattle</td>\n",
       "      <td>47.52398</td>\n",
       "      <td>-122.359891</td>\n",
       "      <td>Apartment</td>\n",
       "      <td>96.0</td>\n",
       "      <td>Wednesday</td>\n",
       "      <td>1</td>\n",
       "    </tr>\n",
       "    <tr>\n",
       "      <th>3</th>\n",
       "      <td>5682</td>\n",
       "      <td>2016-01-14</td>\n",
       "      <td>50.0</td>\n",
       "      <td>2016</td>\n",
       "      <td>Seattle</td>\n",
       "      <td>47.52398</td>\n",
       "      <td>-122.359891</td>\n",
       "      <td>Apartment</td>\n",
       "      <td>96.0</td>\n",
       "      <td>Thursday</td>\n",
       "      <td>1</td>\n",
       "    </tr>\n",
       "    <tr>\n",
       "      <th>4</th>\n",
       "      <td>5682</td>\n",
       "      <td>2016-01-15</td>\n",
       "      <td>50.0</td>\n",
       "      <td>2016</td>\n",
       "      <td>Seattle</td>\n",
       "      <td>47.52398</td>\n",
       "      <td>-122.359891</td>\n",
       "      <td>Apartment</td>\n",
       "      <td>96.0</td>\n",
       "      <td>Friday</td>\n",
       "      <td>1</td>\n",
       "    </tr>\n",
       "  </tbody>\n",
       "</table>\n",
       "</div>"
      ],
      "text/plain": [
       "   listing_id       date  price  year     City  latitude   longitude  \\\n",
       "0        5682 2016-01-11   50.0  2016  Seattle  47.52398 -122.359891   \n",
       "1        5682 2016-01-12   50.0  2016  Seattle  47.52398 -122.359891   \n",
       "2        5682 2016-01-13   50.0  2016  Seattle  47.52398 -122.359891   \n",
       "3        5682 2016-01-14   50.0  2016  Seattle  47.52398 -122.359891   \n",
       "4        5682 2016-01-15   50.0  2016  Seattle  47.52398 -122.359891   \n",
       "\n",
       "  property_type  review_scores_rating        day  month  \n",
       "0     Apartment                  96.0     Monday      1  \n",
       "1     Apartment                  96.0    Tuesday      1  \n",
       "2     Apartment                  96.0  Wednesday      1  \n",
       "3     Apartment                  96.0   Thursday      1  \n",
       "4     Apartment                  96.0     Friday      1  "
      ]
     },
     "execution_count": 14,
     "metadata": {},
     "output_type": "execute_result"
    }
   ],
   "source": [
    "seattle['month'] = seattle['date'].dt.month\n"
   ]
  },
  {
   "cell_type": "code",
   "execution_count": 6,
   "metadata": {},
   "outputs": [
    {
     "data": {
      "image/png": "[encoded data removed]",
      "text/plain": [
       "<Figure size 432x288 with 2 Axes>"
      ]
     },
     "metadata": {
      "needs_background": "light"
     },
     "output_type": "display_data"
    }
   ],
   "source": [
    "#slice dataframe into weekdays and weekends\n",
    "\n",
    "seattle_weekdays = seattle[seattle['day'].isin(['Monday','Tuesday','Wednesday','Thursday','Sunday'])]\n",
    "seattle_weekends = seattle[seattle['day'].isin(['Friday','Saturday'])]\n",
    "                  \n",
    "seattle_weekdays = seattle_weekdays[['listing_id','day','price']]\n",
    "seattle_weekdays = seattle_weekdays.groupby(['listing_id','day'])['price'].mean()\n",
    "seattle_weekdays = pd.DataFrame(seattle_weekdays).reset_index()\n",
    "\n",
    "seattle_weekends = seattle_weekends[['listing_id','day','price']]\n",
    "seattle_weekends = seattle_weekends.groupby(['listing_id','day'])['price'].mean()\n",
    "seattle_weekends = pd.DataFrame(seattle_weekends).reset_index()\n",
    "\n",
    "#create two random samples of equal size. Set random_state to 1 to keep consistent results\n",
    "seattle_weekday_sample = seattle_weekdays.sample(200, random_state=1)\n",
    "seattle_weekend_sample = seattle_weekends.sample(200, random_state=1)\n",
    "\n",
    "#create scatter plot and histogram to observe random samples\n",
    "plt.subplot(2, 1, 1)\n",
    "plt.scatter(range(len(seattle_weekday_sample)), seattle_weekday_sample.price, label=\"Weekday\");\n",
    "plt.scatter(range(len(seattle_weekend_sample)), seattle_weekend_sample.price, label=\"Weekend\");\n",
    "plt.legend()\n",
    "plt.title('Comparison of Weekday and Weekend Prices in Seattle')\n",
    "\n",
    "# Histogram Plot of Data\n",
    "plt.subplot(2, 1, 2)\n",
    "plt.hist(seattle_weekday_sample.price, density=True, alpha=0.7, label=\"Weekday\");\n",
    "plt.hist(seattle_weekend_sample.price,density=True, alpha=0.7, label=\"Weekend\");\n",
    "plt.axvline(seattle_weekday_sample.price.mean(), color='k', linestyle='dashed', linewidth=1);\n",
    "plt.axvline(seattle_weekend_sample.price.mean(), color='k', linestyle='dashed', linewidth=1);\n",
    "plt.savefig('Seattle Images/Comparison of Weekday and Weekend Prices in Seattle')\n",
    "\n",
    "plt.legend()   \n",
    "plt.show()"
   ]
  },
  {
   "cell_type": "markdown",
   "metadata": {},
   "source": [
    "Conduct independent T-Test for weekend and weekday values. \n",
    "Ho: The mean of Friday and Saturday prices are equal to the means of the rest of the week\n",
    "Ha: There is a difference between the means of Fri/Sat and weekday rates\n",
    "\n",
    "\n",
    "P-value is greater than 0.05 so we fail to reject the Ho."
   ]
  },
  {
   "cell_type": "code",
   "execution_count": 7,
   "metadata": {},
   "outputs": [
    {
     "data": {
      "text/plain": [
       "Ttest_indResult(statistic=1.4410895668959465, pvalue=0.15049616670087604)"
      ]
     },
     "execution_count": 7,
     "metadata": {},
     "output_type": "execute_result"
    }
   ],
   "source": [
    "stats.ttest_ind(seattle_weekday_sample.price, seattle_weekend_sample.price, equal_var=False)"
   ]
  },
  {
   "cell_type": "code",
   "execution_count": 19,
   "metadata": {},
   "outputs": [
    {
     "data": {
      "application/vnd.jupyter.widget-view+json": {
       "model_id": "0db8f7c99a324b209347cbbe79b70ac9",
       "version_major": 2,
       "version_minor": 0
      },
      "text/plain": [
       "Figure(layout=FigureLayout(border='1px solid black', height='400px', padding='1px', width='400px'))"
      ]
     },
     "metadata": {},
     "output_type": "display_data"
    }
   ],
   "source": [
    "map_df = seattle[seattle['property_type'].isin(['House','Apartment','Condominium'])]\n",
    "#Setup google maps\n",
    "gmaps.configure(api_key = gkey)\n",
    "layout = {'width': '400px',\n",
    "         'height': '400px',\n",
    "         'border': '1px solid black' ,\n",
    "         'padding':'1px' \n",
    "         }\n",
    "#2016 Heatmap\n",
    "fig2016 = gmaps.figure(layout = layout)\n",
    "# Store latitude and longitude in locations\n",
    "heatmap_2016 = map_df[map_df['year']==2016]\n",
    "locations2016 = heatmap_2016[[\"latitude\", \"longitude\"]]\n",
    "\n",
    "# rating2016 = heatmap_2016['review_scores_rating']\n",
    "price2016 = heatmap_2016['price']\n",
    "\n",
    "# Create heat layer\n",
    "heat_layer = gmaps.heatmap_layer(locations2016, weights=price2016, \n",
    "                                 dissipating=True, max_intensity=100,\n",
    "                                 point_radius=2)\n",
    "\n",
    "\n",
    "# Add layer\n",
    "fig2016.add_layer(heat_layer)\n",
    "\n",
    "# Display figure\n",
    "fig2016\n"
   ]
  },
  {
   "cell_type": "code",
   "execution_count": 9,
   "metadata": {},
   "outputs": [
    {
     "data": {
      "application/vnd.jupyter.widget-view+json": {
       "model_id": "19a7c7248a3349d8a109a4bc7c62456e",
       "version_major": 2,
       "version_minor": 0
      },
      "text/plain": [
       "Figure(layout=FigureLayout(border='1px solid black', height='400px', padding='1px', width='400px'))"
      ]
     },
     "metadata": {},
     "output_type": "display_data"
    }
   ],
   "source": [
    "#2017 Heatmap\n",
    "fig2017 = gmaps.figure(layout = layout)\n",
    "# Store latitude and longitude in locations\n",
    "heatmap_2017 = map_df[map_df['year']==2017]\n",
    "locations2017 = heatmap_2017[[\"latitude\", \"longitude\"]]\n",
    "\n",
    "# rating2017 = heatmap_2017['review_scores_rating']\n",
    "price2017 = heatmap_2017['price']\n",
    "\n",
    "\n",
    "# Create heat layer\n",
    "heat_layer_2017 = gmaps.heatmap_layer(locations2017, weights=price2017, \n",
    "                                 dissipating=True, max_intensity=100,\n",
    "                                 point_radius=2)\n",
    "\n",
    "\n",
    "# Add layer\n",
    "fig2017.add_layer(heat_layer_2017)\n",
    "\n",
    "# Display figure\n",
    "fig2017"
   ]
  },
  {
   "cell_type": "code",
   "execution_count": null,
   "metadata": {},
   "outputs": [],
   "source": [
    "# Get Seattle data for 2016 use\n",
    "\n",
    "Homes_2016 = map_df[(map_df['property_type'] == \"House\") & (map_df['year']==2016)]\n",
    "homes_df_2016 = Homes_2016[['latitude','longitude']]\n",
    "apt_2016 = map_df[(map_df['property_type'] == \"Apartment\") & (map_df['year']==2016)]\n",
    "apt_df_2016 = apt_2016[['latitude','longitude']]\n",
    "condo_2016 = map_df[(map_df['property_type'] == 'Condominium') & (map_df['year']==2016)]\n",
    "condo_df_2016 = condo_2016[['latitude','longitude']]\n",
    "\n",
    "homes_layer_2016 = gmaps.symbol_layer(\n",
    "    homes_df_2016,fill_color = 'rgba(0,150,0,0.4)',\n",
    "    stroke_color = 'rgba(0,150,0,0.4)',scale = 2)\n",
    "\n",
    "apt_layer_2016 = gmaps.symbol_layer(\n",
    "    apt_df_2016,fill_color = 'rgba(200,0,0,0.4)',\n",
    "    stroke_color = 'rgba(200,0,0,0.4)',scale = 2)\n",
    "\n",
    "condo_layer_2016 = gmaps.symbol_layer(\n",
    "    condo_df_2016,fill_color = 'rgba(9,24,220,0.4)',\n",
    "    stroke_color = 'rgba(9,24,220,0.4)',scale = 2)\n",
    "\n",
    "fig1_2016 = gmaps.figure(layout = layout)\n",
    "fig2_2016 = gmaps.figure(layout = layout)\n",
    "fig3_2016 = gmaps.figure(layout = layout)\n",
    "\n",
    "fig1_2016.add_layer(homes_layer_2016)\n",
    "fig2_2016.add_layer(apt_layer_2016)\n",
    "fig3_2016.add_layer(condo_layer_2016)\n",
    "\n",
    "fig1_2016"
   ]
  },
  {
   "cell_type": "code",
   "execution_count": null,
   "metadata": {},
   "outputs": [],
   "source": [
    "fig2_2016"
   ]
  },
  {
   "cell_type": "code",
   "execution_count": null,
   "metadata": {},
   "outputs": [],
   "source": [
    "fig3_2016"
   ]
  },
  {
   "cell_type": "code",
   "execution_count": null,
   "metadata": {},
   "outputs": [],
   "source": [
    "# Get Seattle data for 2017 use\n",
    "\n",
    "Homes_2017 = map_df[(map_df['property_type'] == \"House\") & (map_df['year']==2017)]\n",
    "homes_df_2017 = Homes_2016[['latitude','longitude']]\n",
    "apt_2017 = map_df[(map_df['property_type'] == \"Apartment\") & (map_df['year']==2017)]\n",
    "apt_df_2017 = apt_2016[['latitude','longitude']]\n",
    "condo_2017 = map_df[(map_df['property_type'] == 'Condominium') & (map_df['year']==2017)]\n",
    "condo_df_2017 = condo_2016[['latitude','longitude']]\n",
    "\n",
    "homes_layer_2017 = gmaps.symbol_layer(\n",
    "    homes_df_2017,fill_color = 'rgba(0,150,0,0.4)',\n",
    "    stroke_color = 'rgba(0,150,0,0.4)',scale = 2)\n",
    "\n",
    "apt_layer_2017 = gmaps.symbol_layer(\n",
    "    apt_df_2017,fill_color = 'rgba(200,0,0,0.4)',\n",
    "    stroke_color = 'rgba(200,0,0,0.4)',scale = 2)\n",
    "\n",
    "condo_layer_2017 = gmaps.symbol_layer(\n",
    "    condo_df_2017,fill_color = 'rgba(9,24,220,0.4)',\n",
    "    stroke_color = 'rgba(9,24,220,0.4)',scale = 2)\n",
    "\n",
    "fig1_2017 = gmaps.figure(layout = layout)\n",
    "fig2_2017 = gmaps.figure(layout = layout)\n",
    "fig3_2017 = gmaps.figure(layout = layout)\n",
    "\n",
    "fig1_2017.add_layer(homes_layer_2017)\n",
    "fig2_2017.add_layer(apt_layer_2017)\n",
    "fig3_2017.add_layer(condo_layer_2017)\n",
    "\n",
    "fig1_2017\n"
   ]
  },
  {
   "cell_type": "code",
   "execution_count": null,
   "metadata": {},
   "outputs": [],
   "source": [
    "fig2_2017"
   ]
  },
  {
   "cell_type": "code",
   "execution_count": null,
   "metadata": {},
   "outputs": [],
   "source": [
    "fig3_2017"
   ]
  },
  {
   "cell_type": "markdown",
   "metadata": {},
   "source": [
    "# Boston Data"
   ]
  },
  {
   "cell_type": "code",
   "execution_count": 8,
   "metadata": {},
   "outputs": [],
   "source": [
    "file = 'Boston_Master_DF.csv'\n",
    "\n",
    "boston = pd.read_csv(file)\n",
    "grouped = boston.groupby(['year','listing_id'])\n",
    "del boston['Unnamed: 0']\n",
    "mean_grouped = pd.DataFrame(grouped['review_scores_rating'].mean())\n",
    "\n",
    "mean_grouped.dropna(how = 'any',inplace = True)\n",
    "mean_grouped = mean_grouped.reset_index()\n",
    "\n",
    "boston['date'] =  pd.to_datetime(boston['date'], format='%Y-%m-%d')\n",
    "boston['day'] = boston['date'].dt.day_name()\n"
   ]
  },
  {
   "cell_type": "code",
   "execution_count": null,
   "metadata": {},
   "outputs": [],
   "source": [
    "boston = boston[['listing_id', 'date', 'price', 'year',\n",
    "       'latitude', 'longitude', 'property_type', 'review_scores_rating', 'City', 'day']]\n",
    "\n",
    "Boston_day_df = boston.groupby(['City','day'])['price'].mean().round()\n",
    "Boston_day_df = pd.DataFrame(Boston_day_df).reset_index()\n",
    "\n",
    "dict = {'Monday':0,'Tuesday':1,'Wednesday':2,'Thursday':3,'Friday':4,'Saturday':5,'Sunday':6}\n",
    "Boston_day_df['order'] = Boston_day_df['day'].map(dict)\n",
    "\n",
    "Boston_day_df = Boston_day_df.sort_values('order')\n",
    "del Boston_day_df['order']\n",
    "\n",
    "Boston_fig = Boston_day_df.set_index('day')\n",
    "Boston_fig.plot(kind='line',title = 'Average Price by Day in Boston')\n",
    "# Boston_fig.set_ylabel('Price ($)')\n",
    "# Boston_fig.set_xlabel('Day')"
   ]
  },
  {
   "cell_type": "markdown",
   "metadata": {},
   "source": [
    "# Plot Comparison of Boston and Seattle prices by day of week"
   ]
  },
  {
   "cell_type": "code",
   "execution_count": 37,
   "metadata": {},
   "outputs": [
    {
     "data": {
      "image/png": "[encoded data removed]",
      "text/plain": [
       "<Figure size 432x288 with 1 Axes>"
      ]
     },
     "metadata": {
      "needs_background": "light"
     },
     "output_type": "display_data"
    }
   ],
   "source": [
    "Boston_x = Boston_day_df['day']\n",
    "Boston_y = Boston_day_df['price']\n",
    "Seattle_x = Seattle_day_df['day']\n",
    "Seattle_y = Seattle_day_df['price']\n",
    "\n",
    "plt.plot(Boston_x,Boston_y,label = \"Boston\")\n",
    "plt.plot(Seattle_x,Seattle_y, color = 'g',label = 'Seattle')\n",
    "\n",
    "plt.xlabel('Days')\n",
    "plt.ylabel('Price ($)')\n",
    "plt.title('Average Price by Day')\n",
    "plt.xticks(rotation = 45)\n",
    "plt.legend(loc = 'best')\n",
    "plt.savefig('Boston_Seattle_avg_price_day')\n",
    "plt.show()"
   ]
  },
  {
   "cell_type": "markdown",
   "metadata": {},
   "source": [
    "# Independant Ttest to evaluate daily prices between Seattle and Boston"
   ]
  },
  {
   "cell_type": "code",
   "execution_count": 44,
   "metadata": {},
   "outputs": [
    {
     "data": {
      "text/plain": [
       "Ttest_indResult(statistic=30.477416183073355, pvalue=1.10874112138463e-11)"
      ]
     },
     "execution_count": 44,
     "metadata": {},
     "output_type": "execute_result"
    }
   ],
   "source": [
    "stats.ttest_ind(Boston_day_df.price, Seattle_day_df.price, equal_var=False)"
   ]
  },
  {
   "cell_type": "code",
   "execution_count": 40,
   "metadata": {},
   "outputs": [],
   "source": [
    "#slice dataframe into weekdays and weekends\n",
    "\n",
    "Boston_weekdays = boston[boston['day'].isin(['Monday','Tuesday','Wednesday','Thursday','Sunday'])]\n",
    "Boston_weekends = boston[boston['day'].isin(['Friday','Saturday'])]\n",
    "                  \n",
    "Boston_weekdays = Boston_weekdays[['listing_id','day','price']]\n",
    "Boston_weekdays = Boston_weekdays.groupby(['listing_id','day'])['price'].mean()\n",
    "Boston_weekdays = pd.DataFrame(Boston_weekdays).reset_index()\n",
    "\n",
    "Boston_weekends = Boston_weekends[['listing_id','day','price']]\n",
    "Boston_weekends = Boston_weekends.groupby(['listing_id','day'])['price'].mean()\n",
    "Boston_weekends = pd.DataFrame(Boston_weekends).reset_index()\n",
    "\n",
    "Boston_weekday = round(Boston_weekdays['price'].mean(),0)\n",
    "Boston_weekend = round(Boston_weekends['price'].mean(),0)"
   ]
  },
  {
   "cell_type": "code",
   "execution_count": 42,
   "metadata": {},
   "outputs": [
    {
     "data": {
      "image/png": "[encoded data removed]",
      "text/plain": [
       "<Figure size 432x288 with 2 Axes>"
      ]
     },
     "metadata": {
      "needs_background": "light"
     },
     "output_type": "display_data"
    }
   ],
   "source": [
    "#create two random samples of equal size. Set random_state to 1 to keep consistent results\n",
    "Boston_weekday_sample = Boston_weekdays.sample(200, random_state=1)\n",
    "Boston_weekend_sample = Boston_weekends.sample(200, random_state=1)\n",
    "\n",
    "#create scatter plot and histogram to observe random samples\n",
    "plt.subplot(2, 1, 1)\n",
    "plt.scatter(range(len(Boston_weekday_sample)), Boston_weekday_sample.price, label=\"Weekday\");\n",
    "plt.scatter(range(len(Boston_weekend_sample)), Boston_weekend_sample.price, label=\"Weekend\");\n",
    "plt.legend()\n",
    "plt.title('Comparison of Weekday and Weekend Prices in Boston')\n",
    "\n",
    "# Histogram Plot of Data\n",
    "plt.subplot(2, 1, 2)\n",
    "plt.hist(Boston_weekday_sample.price, density=True, alpha=0.7, label=\"Weekday\");\n",
    "plt.hist(Boston_weekend_sample.price,density=True, alpha=0.7, label=\"Weekend\");\n",
    "plt.axvline(Boston_weekday_sample.price.mean(), color='k', linestyle='dashed', linewidth=1);\n",
    "plt.axvline(Boston_weekend_sample.price.mean(), color='k', linestyle='dashed', linewidth=1);\n",
    "plt.savefig('Boston Images/Comparison of Weekday and Weekend Prices in Boston')\n",
    "\n",
    "plt.legend()   \n",
    "plt.show()\n",
    "\n"
   ]
  },
  {
   "cell_type": "code",
   "execution_count": 89,
   "metadata": {},
   "outputs": [
    {
     "data": {
      "text/html": [
       "<div>\n",
       "<style scoped>\n",
       "    .dataframe tbody tr th:only-of-type {\n",
       "        vertical-align: middle;\n",
       "    }\n",
       "\n",
       "    .dataframe tbody tr th {\n",
       "        vertical-align: top;\n",
       "    }\n",
       "\n",
       "    .dataframe thead th {\n",
       "        text-align: right;\n",
       "    }\n",
       "</style>\n",
       "<table border=\"1\" class=\"dataframe\">\n",
       "  <thead>\n",
       "    <tr style=\"text-align: right;\">\n",
       "      <th></th>\n",
       "      <th>listing_id</th>\n",
       "      <th>date</th>\n",
       "      <th>price</th>\n",
       "      <th>year</th>\n",
       "      <th>latitude</th>\n",
       "      <th>longitude</th>\n",
       "      <th>property_type</th>\n",
       "      <th>review_scores_rating</th>\n",
       "      <th>City</th>\n",
       "      <th>day</th>\n",
       "    </tr>\n",
       "  </thead>\n",
       "  <tbody>\n",
       "    <tr>\n",
       "      <th>57265</th>\n",
       "      <td>447826</td>\n",
       "      <td>2016-10-26</td>\n",
       "      <td>7163.0</td>\n",
       "      <td>2016</td>\n",
       "      <td>42.317134</td>\n",
       "      <td>-71.10966</td>\n",
       "      <td>House</td>\n",
       "      <td>96.0</td>\n",
       "      <td>Boston</td>\n",
       "      <td>Wednesday</td>\n",
       "    </tr>\n",
       "  </tbody>\n",
       "</table>\n",
       "</div>"
      ],
      "text/plain": [
       "       listing_id       date   price  year   latitude  longitude  \\\n",
       "57265      447826 2016-10-26  7163.0  2016  42.317134  -71.10966   \n",
       "\n",
       "      property_type  review_scores_rating    City        day  \n",
       "57265         House                  96.0  Boston  Wednesday  "
      ]
     },
     "execution_count": 89,
     "metadata": {},
     "output_type": "execute_result"
    }
   ],
   "source": [
    "money = boston[boston.price > 6000]\n",
    "latitude = money.latitude.values[0]\n",
    "longitude = money.longitude.values[0]\n",
    "price = money.price.values[0]\n",
    "\n",
    "money"
   ]
  },
  {
   "cell_type": "code",
   "execution_count": 78,
   "metadata": {},
   "outputs": [
    {
     "data": {
      "application/vnd.jupyter.widget-view+json": {
       "model_id": "8008cae7c9b1467ca6e1f9b8cc13568b",
       "version_major": 2,
       "version_minor": 0
      },
      "text/plain": [
       "Figure(layout=FigureLayout(border='1px solid black', height='400px', padding='1px', width='400px'))"
      ]
     },
     "metadata": {},
     "output_type": "display_data"
    }
   ],
   "source": [
    "#Find the most expensive listing in Boston\n",
    "\n",
    "Boston_high_roller = gmaps.marker_layer(money[['latitude','longitude']])\n",
    "\n",
    "fig1 = gmaps.figure(layout = layout)\n",
    "\n",
    "\n",
    "fig1.add_layer(Boston_high_roller)\n",
    "fig1"
   ]
  }
 ],
 "metadata": {
  "kernelspec": {
   "display_name": "Python 3",
   "language": "python",
   "name": "python3"
  },
  "language_info": {
   "codemirror_mode": {
    "name": "ipython",
    "version": 3
   },
   "file_extension": ".py",
   "mimetype": "text/x-python",
   "name": "python",
   "nbconvert_exporter": "python",
   "pygments_lexer": "ipython3",
   "version": "3.7.3"
  }
 },
 "nbformat": 4,
 "nbformat_minor": 2
}
