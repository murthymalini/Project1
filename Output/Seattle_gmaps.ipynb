{
 "cells": [
  {
   "cell_type": "code",
   "execution_count": 198,
   "metadata": {},
   "outputs": [],
   "source": [
    "import gmaps\n",
    "import pandas as pd\n",
    "from api_keys import gkey\n"
   ]
  },
  {
   "cell_type": "code",
   "execution_count": 200,
   "metadata": {},
   "outputs": [
    {
     "data": {
      "text/html": [
       "<div>\n",
       "<style scoped>\n",
       "    .dataframe tbody tr th:only-of-type {\n",
       "        vertical-align: middle;\n",
       "    }\n",
       "\n",
       "    .dataframe tbody tr th {\n",
       "        vertical-align: top;\n",
       "    }\n",
       "\n",
       "    .dataframe thead th {\n",
       "        text-align: right;\n",
       "    }\n",
       "</style>\n",
       "<table border=\"1\" class=\"dataframe\">\n",
       "  <thead>\n",
       "    <tr style=\"text-align: right;\">\n",
       "      <th></th>\n",
       "      <th>year</th>\n",
       "      <th>listing_id</th>\n",
       "      <th>latitude</th>\n",
       "      <th>longitude</th>\n",
       "      <th>property_type</th>\n",
       "      <th>review_scores_rating</th>\n",
       "    </tr>\n",
       "  </thead>\n",
       "  <tbody>\n",
       "    <tr>\n",
       "      <th>0</th>\n",
       "      <td>2016</td>\n",
       "      <td>5682</td>\n",
       "      <td>47.523980</td>\n",
       "      <td>-122.359891</td>\n",
       "      <td>Apartment</td>\n",
       "      <td>96.0</td>\n",
       "    </tr>\n",
       "    <tr>\n",
       "      <th>1</th>\n",
       "      <td>2016</td>\n",
       "      <td>6606</td>\n",
       "      <td>47.654109</td>\n",
       "      <td>-122.337605</td>\n",
       "      <td>Apartment</td>\n",
       "      <td>93.0</td>\n",
       "    </tr>\n",
       "    <tr>\n",
       "      <th>2</th>\n",
       "      <td>2016</td>\n",
       "      <td>7369</td>\n",
       "      <td>47.615397</td>\n",
       "      <td>-122.325640</td>\n",
       "      <td>Condominium</td>\n",
       "      <td>94.0</td>\n",
       "    </tr>\n",
       "    <tr>\n",
       "      <th>3</th>\n",
       "      <td>2016</td>\n",
       "      <td>9460</td>\n",
       "      <td>47.608010</td>\n",
       "      <td>-122.328739</td>\n",
       "      <td>Bed &amp; Breakfast</td>\n",
       "      <td>98.0</td>\n",
       "    </tr>\n",
       "    <tr>\n",
       "      <th>4</th>\n",
       "      <td>2016</td>\n",
       "      <td>9531</td>\n",
       "      <td>47.555389</td>\n",
       "      <td>-122.384739</td>\n",
       "      <td>House</td>\n",
       "      <td>100.0</td>\n",
       "    </tr>\n",
       "  </tbody>\n",
       "</table>\n",
       "</div>"
      ],
      "text/plain": [
       "   year  listing_id   latitude   longitude    property_type  \\\n",
       "0  2016        5682  47.523980 -122.359891        Apartment   \n",
       "1  2016        6606  47.654109 -122.337605        Apartment   \n",
       "2  2016        7369  47.615397 -122.325640      Condominium   \n",
       "3  2016        9460  47.608010 -122.328739  Bed & Breakfast   \n",
       "4  2016        9531  47.555389 -122.384739            House   \n",
       "\n",
       "   review_scores_rating  \n",
       "0                  96.0  \n",
       "1                  93.0  \n",
       "2                  94.0  \n",
       "3                  98.0  \n",
       "4                 100.0  "
      ]
     },
     "execution_count": 200,
     "metadata": {},
     "output_type": "execute_result"
    }
   ],
   "source": [
    "file = 'Seattle_Master_Df.csv'\n",
    "\n",
    "seattle = pd.read_csv(file)\n",
    "del seattle['Unnamed: 0']\n",
    "seattle.head()"
   ]
  },
  {
   "cell_type": "code",
   "execution_count": 203,
   "metadata": {},
   "outputs": [
    {
     "data": {
      "text/plain": [
       "year                    3860\n",
       "listing_id              3860\n",
       "latitude                3860\n",
       "longitude               3860\n",
       "property_type           3860\n",
       "review_scores_rating    3860\n",
       "dtype: int64"
      ]
     },
     "execution_count": 203,
     "metadata": {},
     "output_type": "execute_result"
    }
   ],
   "source": [
    "map_df = seattle[seattle['property_type'].isin(['House','Apartment','Condominium'])]\n",
    "map_df.count()"
   ]
  },
  {
   "cell_type": "code",
   "execution_count": 204,
   "metadata": {},
   "outputs": [],
   "source": [
    "gmaps.configure(api_key = gkey)\n",
    "layout = {'width': '400px',\n",
    "         'height': '400px',\n",
    "         'border': '1px solid black' ,\n",
    "         'padding':'1px' }\n",
    "\n"
   ]
  },
  {
   "cell_type": "code",
   "execution_count": 217,
   "metadata": {},
   "outputs": [
    {
     "data": {
      "application/vnd.jupyter.widget-view+json": {
       "model_id": "05f5e76ba02042fa962333544a5f7867",
       "version_major": 2,
       "version_minor": 0
      },
      "text/plain": [
       "Figure(layout=FigureLayout(border='1px solid black', height='400px', padding='1px', width='400px'))"
      ]
     },
     "metadata": {},
     "output_type": "display_data"
    }
   ],
   "source": [
    "#2016 Heatmap\n",
    "fig2016 = gmaps.figure(layout = layout)\n",
    "# Store latitude and longitude in locations\n",
    "heatmap_2016 = map_df[map_df['year']==2016]\n",
    "locations2016 = heatmap_2016[[\"latitude\", \"longitude\"]]\n",
    "\n",
    "rating2016 = heatmap_2016['review_scores_rating']\n",
    "\n",
    "\n",
    "# Create heat layer\n",
    "heat_layer = gmaps.heatmap_layer(locations2016, weights=rating2016, \n",
    "                                 dissipating=True, max_intensity=100,\n",
    "                                 point_radius=2)\n",
    "\n",
    "\n",
    "# Add layer\n",
    "fig2016.add_layer(heat_layer)\n",
    "\n",
    "# Display figure\n",
    "fig2016"
   ]
  },
  {
   "cell_type": "code",
   "execution_count": 226,
   "metadata": {},
   "outputs": [
    {
     "data": {
      "application/vnd.jupyter.widget-view+json": {
       "model_id": "7fa2aeb0463244a18f26c2e510255b92",
       "version_major": 2,
       "version_minor": 0
      },
      "text/plain": [
       "Figure(layout=FigureLayout(border='1px solid black', height='400px', padding='1px', width='400px'))"
      ]
     },
     "metadata": {},
     "output_type": "display_data"
    }
   ],
   "source": [
    "#2016 Heatmap\n",
    "fig2017 = gmaps.figure(layout = layout)\n",
    "# Store latitude and longitude in locations\n",
    "heatmap_2017 = map_df[map_df['year']==2017]\n",
    "locations2017 = heatmap_2017[[\"latitude\", \"longitude\"]]\n",
    "\n",
    "rating2017 = heatmap_2017['review_scores_rating']\n",
    "\n",
    "\n",
    "# Create heat layer\n",
    "heat_layer_2017 = gmaps.heatmap_layer(locations2017, weights=rating2017, \n",
    "                                 dissipating=True, max_intensity=100,\n",
    "                                 point_radius=2)\n",
    "\n",
    "\n",
    "# Add layer\n",
    "fig2017.add_layer(heat_layer_2017)\n",
    "\n",
    "# Display figure\n",
    "fig2017"
   ]
  },
  {
   "cell_type": "code",
   "execution_count": 224,
   "metadata": {},
   "outputs": [],
   "source": [
    "# info_box_template = \"\"\"\n",
    "# <dl>\n",
    "# <dt>Name</dt><dd>{Hotel Name}</dd>\n",
    "# <dt>City</dt><dd>{City}</dd>\n",
    "# <dt>Country</dt><dd>{Country}</dd>\n",
    "# </dl>\n",
    "# \"\"\"\n",
    "# # Store the DataFrame Row\n",
    "# # NOTE: be sure to update with your DataFrame name\n",
    "# hotel_info = [info_box_template.format(**row) for index, row in map_df.iterrows()]\n"
   ]
  },
  {
   "cell_type": "code",
   "execution_count": 208,
   "metadata": {},
   "outputs": [
    {
     "data": {
      "application/vnd.jupyter.widget-view+json": {
       "model_id": "b523bc4e1a1844f6a23e4e7aa3d0bb1a",
       "version_major": 2,
       "version_minor": 0
      },
      "text/plain": [
       "Figure(layout=FigureLayout(border='1px solid black', height='400px', padding='1px', width='400px'))"
      ]
     },
     "metadata": {},
     "output_type": "display_data"
    }
   ],
   "source": [
    "# Get Data for 2016 use\n",
    "\n",
    "Homes_2016 = map_df[(map_df['property_type'] == \"House\") & (map_df['year']==2016)]\n",
    "homes_df_2016 = Homes_2016[['latitude','longitude']]\n",
    "apt_2016 = map_df[(map_df['property_type'] == \"Apartment\") & (map_df['year']==2016)]\n",
    "apt_df_2016 = apt_2016[['latitude','longitude']]\n",
    "condo_2016 = map_df[(map_df['property_type'] == 'Condominium') & (map_df['year']==2016)]\n",
    "condo_df_2016 = condo_2016[['latitude','longitude']]\n",
    "\n",
    "homes_layer_2016 = gmaps.symbol_layer(\n",
    "    homes_df_2016,fill_color = 'rgba(0,150,0,0.4)',\n",
    "    stroke_color = 'rgba(0,150,0,0.4)',scale = 2)\n",
    "\n",
    "apt_layer_2016 = gmaps.symbol_layer(\n",
    "    apt_df_2016,fill_color = 'rgba(200,0,0,0.4)',\n",
    "    stroke_color = 'rgba(200,0,0,0.4)',scale = 2)\n",
    "\n",
    "condo_layer_2016 = gmaps.symbol_layer(\n",
    "    condo_df_2016,fill_color = 'rgba(9,24,220,0.4)',\n",
    "    stroke_color = 'rgba(9,24,220,0.4)',scale = 2)\n",
    "\n",
    "fig1 = gmaps.figure(layout = layout)\n",
    "fig2 = gmaps.figure(layout = layout)\n",
    "fig3 = gmaps.figure(layout = layout)\n",
    "\n",
    "fig1.add_layer(homes_layer_2016)\n",
    "fig2.add_layer(apt_layer_2016)\n",
    "fig3.add_layer(condo_layer_2016)\n",
    "\n",
    "fig1\n",
    "\n"
   ]
  },
  {
   "cell_type": "code",
   "execution_count": 209,
   "metadata": {},
   "outputs": [
    {
     "data": {
      "application/vnd.jupyter.widget-view+json": {
       "model_id": "697ce503eed042aaa3a0ae13d3d4a13b",
       "version_major": 2,
       "version_minor": 0
      },
      "text/plain": [
       "Figure(layout=FigureLayout(border='1px solid black', height='400px', padding='1px', width='400px'))"
      ]
     },
     "metadata": {},
     "output_type": "display_data"
    }
   ],
   "source": [
    "fig2"
   ]
  },
  {
   "cell_type": "code",
   "execution_count": 210,
   "metadata": {},
   "outputs": [
    {
     "data": {
      "application/vnd.jupyter.widget-view+json": {
       "model_id": "f88413787ce94812b64f098c46e348ad",
       "version_major": 2,
       "version_minor": 0
      },
      "text/plain": [
       "Figure(layout=FigureLayout(border='1px solid black', height='400px', padding='1px', width='400px'))"
      ]
     },
     "metadata": {},
     "output_type": "display_data"
    }
   ],
   "source": [
    "fig3"
   ]
  },
  {
   "cell_type": "code",
   "execution_count": 214,
   "metadata": {},
   "outputs": [
    {
     "data": {
      "application/vnd.jupyter.widget-view+json": {
       "model_id": "f23888d9721942229fc91e6824e9ab47",
       "version_major": 2,
       "version_minor": 0
      },
      "text/plain": [
       "Figure(layout=FigureLayout(border='1px solid black', height='400px', padding='1px', width='400px'))"
      ]
     },
     "metadata": {},
     "output_type": "display_data"
    }
   ],
   "source": [
    "# Get Data for 2016 use\n",
    "\n",
    "Homes_2017 = map_df[(map_df['property_type'] == \"House\") & (map_df['year']==2017)]\n",
    "homes_df_2017 = Homes_2016[['latitude','longitude']]\n",
    "apt_2017 = map_df[(map_df['property_type'] == \"Apartment\") & (map_df['year']==2017)]\n",
    "apt_df_2017 = apt_2016[['latitude','longitude']]\n",
    "condo_2017 = map_df[(map_df['property_type'] == 'Condominium') & (map_df['year']==2017)]\n",
    "condo_df_2017 = condo_2016[['latitude','longitude']]\n",
    "\n",
    "homes_layer_2017 = gmaps.symbol_layer(\n",
    "    homes_df_2017,fill_color = 'rgba(0,150,0,0.4)',\n",
    "    stroke_color = 'rgba(0,150,0,0.4)',scale = 2)\n",
    "\n",
    "apt_layer_2017 = gmaps.symbol_layer(\n",
    "    apt_df_2017,fill_color = 'rgba(200,0,0,0.4)',\n",
    "    stroke_color = 'rgba(200,0,0,0.4)',scale = 2)\n",
    "\n",
    "condo_layer_2017 = gmaps.symbol_layer(\n",
    "    condo_df_2017,fill_color = 'rgba(9,24,220,0.4)',\n",
    "    stroke_color = 'rgba(9,24,220,0.4)',scale = 2)\n",
    "\n",
    "fig1 = gmaps.figure(layout = layout)\n",
    "fig2 = gmaps.figure(layout = layout)\n",
    "fig3 = gmaps.figure(layout = layout)\n",
    "\n",
    "fig1.add_layer(homes_layer_2017)\n",
    "fig2.add_layer(apt_layer_2017)\n",
    "fig3.add_layer(condo_layer_2017)\n",
    "\n",
    "fig1\n",
    "\n"
   ]
  },
  {
   "cell_type": "code",
   "execution_count": 215,
   "metadata": {},
   "outputs": [
    {
     "data": {
      "application/vnd.jupyter.widget-view+json": {
       "model_id": "c90dcfad8d1041eb93fa26d870b77293",
       "version_major": 2,
       "version_minor": 0
      },
      "text/plain": [
       "Figure(layout=FigureLayout(border='1px solid black', height='400px', padding='1px', width='400px'))"
      ]
     },
     "metadata": {},
     "output_type": "display_data"
    }
   ],
   "source": [
    "fig2"
   ]
  },
  {
   "cell_type": "code",
   "execution_count": 216,
   "metadata": {},
   "outputs": [
    {
     "data": {
      "application/vnd.jupyter.widget-view+json": {
       "model_id": "94819a9527954fcdaf36672426a48944",
       "version_major": 2,
       "version_minor": 0
      },
      "text/plain": [
       "Figure(layout=FigureLayout(border='1px solid black', height='400px', padding='1px', width='400px'))"
      ]
     },
     "metadata": {},
     "output_type": "display_data"
    }
   ],
   "source": [
    "fig3"
   ]
  },
  {
   "cell_type": "code",
   "execution_count": null,
   "metadata": {},
   "outputs": [],
   "source": []
  }
 ],
 "metadata": {
  "kernelspec": {
   "display_name": "Python 3",
   "language": "python",
   "name": "python3"
  },
  "language_info": {
   "codemirror_mode": {
    "name": "ipython",
    "version": 3
   },
   "file_extension": ".py",
   "mimetype": "text/x-python",
   "name": "python",
   "nbconvert_exporter": "python",
   "pygments_lexer": "ipython3",
   "version": "3.7.3"
  }
 },
 "nbformat": 4,
 "nbformat_minor": 2
}
