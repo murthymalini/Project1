{
 "cells": [
  {
   "cell_type": "code",
   "execution_count": 3,
   "metadata": {},
   "outputs": [],
   "source": [
    "import gmaps\n",
    "import pandas as pd\n",
    "from api_keys import gkey\n"
   ]
  },
  {
   "cell_type": "code",
   "execution_count": 4,
   "metadata": {},
   "outputs": [
    {
     "data": {
      "text/plain": [
       "2"
      ]
     },
     "execution_count": 4,
     "metadata": {},
     "output_type": "execute_result"
    }
   ],
   "source": [
    "file = 'Boston_Master_DF.csv'\n",
    "\n",
    "boston = pd.read_csv(file)\n",
    "grouped = boston.groupby(['year','listing_id'])\n",
    "del boston['Unnamed: 0']\n",
    "mean_grouped = pd.DataFrame(grouped['review_scores_rating'].mean())\n",
    "\n",
    "mean_grouped.dropna(how = 'any',inplace = True)\n",
    "mean_grouped = mean_grouped.reset_index()\n",
    "\n",
    "boston['year'].nunique()"
   ]
  },
  {
   "cell_type": "code",
   "execution_count": 5,
   "metadata": {},
   "outputs": [
    {
     "data": {
      "text/html": [
       "<div>\n",
       "<style scoped>\n",
       "    .dataframe tbody tr th:only-of-type {\n",
       "        vertical-align: middle;\n",
       "    }\n",
       "\n",
       "    .dataframe tbody tr th {\n",
       "        vertical-align: top;\n",
       "    }\n",
       "\n",
       "    .dataframe thead th {\n",
       "        text-align: right;\n",
       "    }\n",
       "</style>\n",
       "<table border=\"1\" class=\"dataframe\">\n",
       "  <thead>\n",
       "    <tr style=\"text-align: right;\">\n",
       "      <th></th>\n",
       "      <th>year</th>\n",
       "      <th>listing_id</th>\n",
       "      <th>property_type</th>\n",
       "      <th>latitude</th>\n",
       "      <th>longitude</th>\n",
       "      <th>review_scores_rating</th>\n",
       "    </tr>\n",
       "  </thead>\n",
       "  <tbody>\n",
       "    <tr>\n",
       "      <th>0</th>\n",
       "      <td>2017</td>\n",
       "      <td>3075044</td>\n",
       "      <td>Apartment</td>\n",
       "      <td>42.286241</td>\n",
       "      <td>-71.134374</td>\n",
       "      <td>94.0</td>\n",
       "    </tr>\n",
       "    <tr>\n",
       "      <th>1</th>\n",
       "      <td>2017</td>\n",
       "      <td>3075044</td>\n",
       "      <td>Apartment</td>\n",
       "      <td>42.286241</td>\n",
       "      <td>-71.134374</td>\n",
       "      <td>94.0</td>\n",
       "    </tr>\n",
       "    <tr>\n",
       "      <th>2</th>\n",
       "      <td>2017</td>\n",
       "      <td>3075044</td>\n",
       "      <td>Apartment</td>\n",
       "      <td>42.286241</td>\n",
       "      <td>-71.134374</td>\n",
       "      <td>94.0</td>\n",
       "    </tr>\n",
       "    <tr>\n",
       "      <th>3</th>\n",
       "      <td>2017</td>\n",
       "      <td>3075044</td>\n",
       "      <td>Apartment</td>\n",
       "      <td>42.286241</td>\n",
       "      <td>-71.134374</td>\n",
       "      <td>94.0</td>\n",
       "    </tr>\n",
       "    <tr>\n",
       "      <th>4</th>\n",
       "      <td>2017</td>\n",
       "      <td>3075044</td>\n",
       "      <td>Apartment</td>\n",
       "      <td>42.286241</td>\n",
       "      <td>-71.134374</td>\n",
       "      <td>94.0</td>\n",
       "    </tr>\n",
       "  </tbody>\n",
       "</table>\n",
       "</div>"
      ],
      "text/plain": [
       "   year  listing_id property_type   latitude  longitude  review_scores_rating\n",
       "0  2017     3075044     Apartment  42.286241 -71.134374                  94.0\n",
       "1  2017     3075044     Apartment  42.286241 -71.134374                  94.0\n",
       "2  2017     3075044     Apartment  42.286241 -71.134374                  94.0\n",
       "3  2017     3075044     Apartment  42.286241 -71.134374                  94.0\n",
       "4  2017     3075044     Apartment  42.286241 -71.134374                  94.0"
      ]
     },
     "execution_count": 5,
     "metadata": {},
     "output_type": "execute_result"
    }
   ],
   "source": [
    "locations = boston[['year','listing_id','property_type','latitude','longitude', 'review_scores_rating']]\n",
    "grouped_locations = locations.groupby(['year','listing_id'])[['property_type','latitude','longitude']]\n",
    "locations.head()"
   ]
  },
  {
   "cell_type": "code",
   "execution_count": 6,
   "metadata": {},
   "outputs": [
    {
     "data": {
      "text/plain": [
       "array(['House', 'Apartment', 'Condominium', 'Boat', 'Bed & Breakfast',\n",
       "       'Loft', 'Other', 'Villa', 'Townhouse', 'Dorm', 'Guesthouse'],\n",
       "      dtype=object)"
      ]
     },
     "execution_count": 6,
     "metadata": {},
     "output_type": "execute_result"
    }
   ],
   "source": [
    "grouped_df = locations.groupby(['year', 'listing_id', 'property_type', 'latitude', 'longitude'])\n",
    "average_df = pd.DataFrame(grouped_df.mean())\n",
    "average_df = average_df.reset_index()\n",
    "average_df.property_type.unique()"
   ]
  },
  {
   "cell_type": "code",
   "execution_count": 18,
   "metadata": {},
   "outputs": [
    {
     "data": {
      "text/html": [
       "<div>\n",
       "<style scoped>\n",
       "    .dataframe tbody tr th:only-of-type {\n",
       "        vertical-align: middle;\n",
       "    }\n",
       "\n",
       "    .dataframe tbody tr th {\n",
       "        vertical-align: top;\n",
       "    }\n",
       "\n",
       "    .dataframe thead th {\n",
       "        text-align: right;\n",
       "    }\n",
       "</style>\n",
       "<table border=\"1\" class=\"dataframe\">\n",
       "  <thead>\n",
       "    <tr style=\"text-align: right;\">\n",
       "      <th></th>\n",
       "      <th>year</th>\n",
       "      <th>listing_id</th>\n",
       "      <th>property_type</th>\n",
       "      <th>latitude</th>\n",
       "      <th>longitude</th>\n",
       "      <th>review_scores_rating</th>\n",
       "    </tr>\n",
       "  </thead>\n",
       "  <tbody>\n",
       "    <tr>\n",
       "      <th>1750</th>\n",
       "      <td>2017</td>\n",
       "      <td>5506</td>\n",
       "      <td>House</td>\n",
       "      <td>42.329808</td>\n",
       "      <td>-71.095595</td>\n",
       "      <td>91.0</td>\n",
       "    </tr>\n",
       "    <tr>\n",
       "      <th>1751</th>\n",
       "      <td>2017</td>\n",
       "      <td>6695</td>\n",
       "      <td>Apartment</td>\n",
       "      <td>42.329941</td>\n",
       "      <td>-71.093505</td>\n",
       "      <td>95.0</td>\n",
       "    </tr>\n",
       "    <tr>\n",
       "      <th>1752</th>\n",
       "      <td>2017</td>\n",
       "      <td>6976</td>\n",
       "      <td>Apartment</td>\n",
       "      <td>42.292438</td>\n",
       "      <td>-71.135765</td>\n",
       "      <td>98.0</td>\n",
       "    </tr>\n",
       "    <tr>\n",
       "      <th>1753</th>\n",
       "      <td>2017</td>\n",
       "      <td>8792</td>\n",
       "      <td>Apartment</td>\n",
       "      <td>42.358497</td>\n",
       "      <td>-71.062011</td>\n",
       "      <td>91.0</td>\n",
       "    </tr>\n",
       "    <tr>\n",
       "      <th>1754</th>\n",
       "      <td>2017</td>\n",
       "      <td>9273</td>\n",
       "      <td>Apartment</td>\n",
       "      <td>42.364608</td>\n",
       "      <td>-71.029021</td>\n",
       "      <td>100.0</td>\n",
       "    </tr>\n",
       "  </tbody>\n",
       "</table>\n",
       "</div>"
      ],
      "text/plain": [
       "      year  listing_id property_type   latitude  longitude  \\\n",
       "1750  2017        5506         House  42.329808 -71.095595   \n",
       "1751  2017        6695     Apartment  42.329941 -71.093505   \n",
       "1752  2017        6976     Apartment  42.292438 -71.135765   \n",
       "1753  2017        8792     Apartment  42.358497 -71.062011   \n",
       "1754  2017        9273     Apartment  42.364608 -71.029021   \n",
       "\n",
       "      review_scores_rating  \n",
       "1750                  91.0  \n",
       "1751                  95.0  \n",
       "1752                  98.0  \n",
       "1753                  91.0  \n",
       "1754                 100.0  "
      ]
     },
     "execution_count": 18,
     "metadata": {},
     "output_type": "execute_result"
    }
   ],
   "source": [
    "map_df = average_df[average_df['property_type'].isin(['House','Apartment','Condominium'])]\n",
    "map_2016 = map_df[map_df['year']==2016]\n",
    "map_2017 = map_df[map_df['year']==2017]"
   ]
  },
  {
   "cell_type": "code",
   "execution_count": 20,
   "metadata": {},
   "outputs": [],
   "source": [
    "# Store latitude and longitude in locations\n",
    "locations_2016 = map_2016[[\"latitude\", \"longitude\"]]\n",
    "rating_2016 = map_2016['review_scores_rating']\n",
    "\n",
    "locations_2017 = map_2017[[\"latitude\", \"longitude\"]]\n",
    "rating_2017 = map_2017['review_scores_rating']\n"
   ]
  },
  {
   "cell_type": "code",
   "execution_count": 11,
   "metadata": {},
   "outputs": [],
   "source": [
    "gmaps.configure(api_key = gkey)\n",
    "# # Plot Heatmap\n",
    "layout = {'width': '400px',\n",
    "         'height': '400px',\n",
    "         'border': '1px solid black' ,\n",
    "         'padding':'1px' }"
   ]
  },
  {
   "cell_type": "code",
   "execution_count": 23,
   "metadata": {},
   "outputs": [
    {
     "data": {
      "application/vnd.jupyter.widget-view+json": {
       "model_id": "a455c576025a49bf9276624e8a9dbd56",
       "version_major": 2,
       "version_minor": 0
      },
      "text/plain": [
       "Figure(layout=FigureLayout(border='1px solid black', height='400px', padding='1px', width='400px'))"
      ]
     },
     "metadata": {},
     "output_type": "display_data"
    }
   ],
   "source": [
    "\n",
    "\n",
    "fig_2016 = gmaps.figure(layout = layout)\n",
    "fig_2017 = gmaps.figure(layout = layout)\n",
    "\n",
    "# Create heat layer\n",
    "heat_layer_2016 = gmaps.heatmap_layer(locations_2016, weights=rating_2016, \n",
    "                                 dissipating=True, max_intensity=100,\n",
    "                                 point_radius=2)\n",
    "\n",
    "heat_layer_2017 = gmaps.heatmap_layer(locations_2017, weights=rating_2017, \n",
    "                                 dissipating=True, max_intensity=100,\n",
    "                                 point_radius=2)\n",
    "\n",
    "\n",
    "# Add layer\n",
    "fig_2016.add_layer(heat_layer_2016)\n",
    "fig_2017.add_layer(heat_layer_2017)\n",
    "\n",
    "# Display 2016 Heatmap\n",
    "fig_2016"
   ]
  },
  {
   "cell_type": "code",
   "execution_count": 24,
   "metadata": {},
   "outputs": [
    {
     "data": {
      "application/vnd.jupyter.widget-view+json": {
       "model_id": "13b67bacc7d14b1a876a7eee1f64db74",
       "version_major": 2,
       "version_minor": 0
      },
      "text/plain": [
       "Figure(layout=FigureLayout(border='1px solid black', height='400px', padding='1px', width='400px'))"
      ]
     },
     "metadata": {},
     "output_type": "display_data"
    }
   ],
   "source": [
    "# Display 2017 Heatmap\n",
    "fig_2017"
   ]
  },
  {
   "cell_type": "code",
   "execution_count": 12,
   "metadata": {},
   "outputs": [
    {
     "data": {
      "application/vnd.jupyter.widget-view+json": {
       "model_id": "2a2a82add33d442896ba73f936852493",
       "version_major": 2,
       "version_minor": 0
      },
      "text/plain": [
       "Figure(layout=FigureLayout(border='1px solid black', height='400px', padding='1px', width='400px'))"
      ]
     },
     "metadata": {},
     "output_type": "display_data"
    }
   ],
   "source": [
    "#2016 Data\n",
    "\n",
    "Homes_2016 = map_df[(map_df['property_type'] == \"House\") & (map_df['year'] ==2016)]\n",
    "homes_df_2016 = Homes_2016[['latitude','longitude']]\n",
    "\n",
    "apt_2016 = map_df[(map_df['property_type'] == \"Apartment\") & (map_df['year'] ==2016)]\n",
    "apt_df_2016 = apt_2016[['latitude','longitude']]\n",
    "\n",
    "condo_2016 = map_df[(map_df['property_type'] == 'Condominium') & (map_df['year'] ==2016)]\n",
    "condo_df_2016 = condo_2016[['latitude','longitude']]\n",
    "\n",
    "homes_layer_2016 = gmaps.symbol_layer(\n",
    "    homes_df_2016,fill_color = 'rgba(0,150,0,0.4)',\n",
    "    stroke_color = 'rgba(0,150,0,0.4)',scale = 2)\n",
    "\n",
    "apt_layer_2016 = gmaps.symbol_layer(\n",
    "    apt_df_2016,fill_color = 'rgba(200,0,0,0.4)',\n",
    "    stroke_color = 'rgba(200,0,0,0.4)',scale = 2)\n",
    "\n",
    "condo_layer_2016 = gmaps.symbol_layer(\n",
    "    condo_df_2016,fill_color = 'rgba(9,24,220,0.4)',\n",
    "    stroke_color = 'rgba(9,24,220,0.4)',scale = 2)\n",
    "\n",
    "fig1 = gmaps.figure(layout = layout)\n",
    "fig2 = gmaps.figure(layout = layout)\n",
    "fig3 = gmaps.figure(layout = layout)\n",
    "\n",
    "fig1.add_layer(homes_layer_2016)\n",
    "fig2.add_layer(apt_layer_2016)\n",
    "fig3.add_layer(condo_layer_2016)\n",
    "\n",
    "#2016 Boston Homes\n",
    "fig1\n"
   ]
  },
  {
   "cell_type": "code",
   "execution_count": 13,
   "metadata": {},
   "outputs": [
    {
     "data": {
      "application/vnd.jupyter.widget-view+json": {
       "model_id": "bad06b8ddf754abc80271758122ef8db",
       "version_major": 2,
       "version_minor": 0
      },
      "text/plain": [
       "Figure(layout=FigureLayout(border='1px solid black', height='400px', padding='1px', width='400px'))"
      ]
     },
     "metadata": {},
     "output_type": "display_data"
    }
   ],
   "source": [
    "#2016 Boston Apartments\n",
    "fig2"
   ]
  },
  {
   "cell_type": "code",
   "execution_count": 14,
   "metadata": {},
   "outputs": [
    {
     "data": {
      "application/vnd.jupyter.widget-view+json": {
       "model_id": "fa5bcd49fead4a7484998f1e0e2972ba",
       "version_major": 2,
       "version_minor": 0
      },
      "text/plain": [
       "Figure(layout=FigureLayout(border='1px solid black', height='400px', padding='1px', width='400px'))"
      ]
     },
     "metadata": {},
     "output_type": "display_data"
    }
   ],
   "source": [
    "#2016 Boston Condos\n",
    "fig3"
   ]
  },
  {
   "cell_type": "code",
   "execution_count": 15,
   "metadata": {},
   "outputs": [
    {
     "data": {
      "application/vnd.jupyter.widget-view+json": {
       "model_id": "e171355c926947fda9e1770fc4e1525c",
       "version_major": 2,
       "version_minor": 0
      },
      "text/plain": [
       "Figure(layout=FigureLayout(border='1px solid black', height='400px', padding='1px', width='400px'))"
      ]
     },
     "metadata": {},
     "output_type": "display_data"
    }
   ],
   "source": [
    "#2017 Data\n",
    "\n",
    "Homes_2017 = map_df[(map_df['property_type'] == \"House\") & (map_df['year'] ==2017)]\n",
    "homes_df_2017 = Homes_2017[['latitude','longitude']]\n",
    "\n",
    "apt_2017 = map_df[(map_df['property_type'] == \"Apartment\") & (map_df['year'] ==2017)]\n",
    "apt_df_2017 = apt_2017[['latitude','longitude']]\n",
    "\n",
    "condo_2017 = map_df[(map_df['property_type'] == 'Condominium') & (map_df['year'] ==2017)]\n",
    "condo_df_2017 = condo_2017[['latitude','longitude']]\n",
    "\n",
    "homes_layer_2017 = gmaps.symbol_layer(\n",
    "    homes_df_2017,fill_color = 'rgba(0,150,0,0.4)',\n",
    "    stroke_color = 'rgba(0,150,0,0.4)',scale = 2)\n",
    "\n",
    "apt_layer_2017 = gmaps.symbol_layer(\n",
    "    apt_df_2017,fill_color = 'rgba(200,0,0,0.4)',\n",
    "    stroke_color = 'rgba(200,0,0,0.4)',scale = 2)\n",
    "\n",
    "condo_layer_2017 = gmaps.symbol_layer(\n",
    "    condo_df_2017,fill_color = 'rgba(9,24,220,0.4)',\n",
    "    stroke_color = 'rgba(9,24,220,0.4)',scale = 2)\n",
    "\n",
    "fig1 = gmaps.figure(layout = layout)\n",
    "fig2 = gmaps.figure(layout = layout)\n",
    "fig3 = gmaps.figure(layout = layout)\n",
    "\n",
    "fig1.add_layer(homes_layer_2017)\n",
    "fig2.add_layer(apt_layer_2017)\n",
    "fig3.add_layer(condo_layer_2017)\n",
    "\n",
    "#2017 Boston Homes\n",
    "fig1\n"
   ]
  },
  {
   "cell_type": "code",
   "execution_count": 16,
   "metadata": {},
   "outputs": [
    {
     "data": {
      "application/vnd.jupyter.widget-view+json": {
       "model_id": "577d57f1526143a5813d4040f1cc946a",
       "version_major": 2,
       "version_minor": 0
      },
      "text/plain": [
       "Figure(layout=FigureLayout(border='1px solid black', height='400px', padding='1px', width='400px'))"
      ]
     },
     "metadata": {},
     "output_type": "display_data"
    }
   ],
   "source": [
    "#2017 Boston Apartments\n",
    "fig2\n"
   ]
  },
  {
   "cell_type": "code",
   "execution_count": 17,
   "metadata": {},
   "outputs": [
    {
     "data": {
      "application/vnd.jupyter.widget-view+json": {
       "model_id": "e2093f91dfeb43f5a0d6e6c4c5b23044",
       "version_major": 2,
       "version_minor": 0
      },
      "text/plain": [
       "Figure(layout=FigureLayout(border='1px solid black', height='400px', padding='1px', width='400px'))"
      ]
     },
     "metadata": {},
     "output_type": "display_data"
    }
   ],
   "source": [
    "#2017 Boston Condos\n",
    "fig3\n"
   ]
  },
  {
   "cell_type": "code",
   "execution_count": null,
   "metadata": {},
   "outputs": [],
   "source": []
  }
 ],
 "metadata": {
  "kernelspec": {
   "display_name": "Python 3",
   "language": "python",
   "name": "python3"
  },
  "language_info": {
   "codemirror_mode": {
    "name": "ipython",
    "version": 3
   },
   "file_extension": ".py",
   "mimetype": "text/x-python",
   "name": "python",
   "nbconvert_exporter": "python",
   "pygments_lexer": "ipython3",
   "version": "3.7.3"
  }
 },
 "nbformat": 4,
 "nbformat_minor": 2
}
